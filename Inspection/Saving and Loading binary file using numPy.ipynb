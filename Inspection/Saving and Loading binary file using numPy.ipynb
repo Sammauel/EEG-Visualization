{
 "cells": [
  {
   "cell_type": "markdown",
   "metadata": {},
   "source": [
    "## The goal is to take our .fif file and read it as an array and save it as a numpy"
   ]
  },
  {
   "cell_type": "code",
   "execution_count": 1,
   "metadata": {
    "collapsed": true
   },
   "outputs": [],
   "source": [
    "import numpy as np\n",
    "import mne\n",
    "%matplotlib inline\n",
    "import matplotlib.pyplot as plt\n",
    "import scipy \n",
    "from scipy.stats import hmean,trim_mean\n",
    "import pandas as pd"
   ]
  },
  {
   "cell_type": "code",
   "execution_count": 20,
   "metadata": {
    "collapsed": false
   },
   "outputs": [
    {
     "name": "stdout",
     "output_type": "stream",
     "text": [
      "Opening raw data file C:\\Users\\Sammauel\\Documents\\csc59969\\EEG\\EEG-Visualization\\Inspection\\suj28_l2nap_day1.fif...\n",
      "This filename (C:\\Users\\Sammauel\\Documents\\csc59969\\EEG\\EEG-Visualization\\Inspection\\suj28_l2nap_day1.fif) does not conform to MNE naming conventions. All raw files should end with raw.fif, raw_sss.fif, raw_tsss.fif, raw.fif.gz, raw_sss.fif.gz or raw_tsss.fif.gz\n",
      "Isotrak not found\n",
      "    Read a total of 1 projection items:\n",
      "        Average EEG reference (1 x 61)  idle\n",
      "    Range : 0 ... 1807649 =      0.000 ...  1807.649 secs\n",
      "Ready.\n",
      "add_eeg_ref defaults to True in 0.13, will default to False in 0.14, and will be removed in 0.15. We recommend to use add_eeg_ref=False and set_eeg_reference() instead.\n",
      "<Info | 19 non-empty fields\n",
      "    bads : 'list | 0 items\n",
      "    buffer_size_sec : 'numpy.float64 | 1.0\n",
      "    ch_names : 'list | Fp1, Fz, F3, F7, FT9, FC5, FC1, C3, T7, CP5\n",
      "    chs : 'list | 63 items (EEG: 61, EOG: 2)\n",
      "    comps : 'list | 0 items\n",
      "    custom_ref_applied : 'bool | False\n",
      "    dev_head_t : 'mne.transforms.Transform | 3 items\n",
      "    events : 'list | 0 items\n",
      "    file_id : 'dict | 4 items\n",
      "    filename : 'str | C:\\Users\\S.../suj28_l2nap_day1.fif\n",
      "    highpass : 'float | 0.10000000149011612 Hz\n",
      "    hpi_meas : 'list | 0 items\n",
      "    hpi_results : 'list | 0 items\n",
      "    lowpass : 'float | 50.0 Hz\n",
      "    meas_date : 'numpy.ndarray | 2016-10-02 14:00:07\n",
      "    meas_id : 'dict | 4 items\n",
      "    nchan : 'int | 63\n",
      "    projs : 'list | Average EEG reference: off\n",
      "    sfreq : 'float | 1000.0 Hz\n",
      "    acq_pars : 'NoneType\n",
      "    acq_stim : 'NoneType\n",
      "    ctf_head_t : 'NoneType\n",
      "    description : 'NoneType\n",
      "    dev_ctf_t : 'NoneType\n",
      "    dig : 'NoneType\n",
      "    experimenter : 'NoneType\n",
      "    hpi_subsystem : 'NoneType\n",
      "    kit_system_id : 'NoneType\n",
      "    line_freq : 'NoneType\n",
      "    proj_id : 'NoneType\n",
      "    proj_name : 'NoneType\n",
      "    subject_info : 'NoneType\n",
      "    xplotter_layout : 'NoneType\n",
      ">\n",
      "['Fp1', 'Fz', 'F3', 'F7', 'FT9', 'FC5', 'FC1', 'C3', 'T7', 'CP5', 'CP1', 'Pz', 'P3', 'P7', 'O1', 'Oz', 'O2', 'P4', 'P8', 'TP10', 'CP6', 'CP2', 'Cz', 'C4', 'T8', 'FT10', 'FC6', 'FC2', 'F4', 'F8', 'Fp2', 'AF7', 'AF3', 'AFz', 'F1', 'F5', 'FT7', 'FC3', 'FCz', 'C1', 'C5', 'TP7', 'CP3', 'P1', 'P5', 'PO7', 'PO3', 'POz', 'PO4', 'PO8', 'P6', 'P2', 'CPz', 'CP4', 'TP8', 'C6', 'C2', 'FC4', 'FT8', 'F6', 'F2', 'LOc', 'ROc']\n"
     ]
    },
    {
     "name": "stderr",
     "output_type": "stream",
     "text": [
      "<ipython-input-20-4f9546b8506b>:1: RuntimeWarning: This filename (C:\\Users\\Sammauel\\Documents\\csc59969\\EEG\\EEG-Visualization\\Inspection\\suj28_l2nap_day1.fif) does not conform to MNE naming conventions. All raw files should end with raw.fif, raw_sss.fif, raw_tsss.fif, raw.fif.gz, raw_sss.fif.gz or raw_tsss.fif.gz\n",
      "  raw = mne.io.read_raw_fif(\"suj28_l2nap_day1.fif\")\n",
      "<ipython-input-20-4f9546b8506b>:1: DeprecationWarning: add_eeg_ref defaults to True in 0.13, will default to False in 0.14, and will be removed in 0.15. We recommend to use add_eeg_ref=False and set_eeg_reference() instead.\n",
      "  raw = mne.io.read_raw_fif(\"suj28_l2nap_day1.fif\")\n"
     ]
    }
   ],
   "source": [
    "raw = mne.io.read_raw_fif(\"suj28_l2nap_day1.fif\")\n",
    "print(raw.info)\n",
    "print(raw.ch_names)"
   ]
  },
  {
   "cell_type": "code",
   "execution_count": 33,
   "metadata": {
    "collapsed": false
   },
   "outputs": [],
   "source": [
    "# Run this command first to look at the data at 10 ms\n",
    "\n",
    "#raw = mne.io.read_raw_fif(\"suj28_l2nap_day1.fif\",preload = True)\n",
    "#raw.load_data\n",
    "#raw.resample(100)"
   ]
  },
  {
   "cell_type": "code",
   "execution_count": 45,
   "metadata": {
    "collapsed": false
   },
   "outputs": [
    {
     "name": "stdout",
     "output_type": "stream",
     "text": [
      "Converting time column to int64...\n"
     ]
    },
    {
     "data": {
      "text/html": [
       "<div>\n",
       "<table border=\"1\" class=\"dataframe\">\n",
       "  <thead>\n",
       "    <tr style=\"text-align: right;\">\n",
       "      <th>signal</th>\n",
       "      <th>Fp1</th>\n",
       "      <th>Fz</th>\n",
       "      <th>F3</th>\n",
       "      <th>F7</th>\n",
       "      <th>FT9</th>\n",
       "      <th>FC5</th>\n",
       "      <th>FC1</th>\n",
       "      <th>C3</th>\n",
       "      <th>T7</th>\n",
       "      <th>CP5</th>\n",
       "      <th>...</th>\n",
       "      <th>CP4</th>\n",
       "      <th>TP8</th>\n",
       "      <th>C6</th>\n",
       "      <th>C2</th>\n",
       "      <th>FC4</th>\n",
       "      <th>FT8</th>\n",
       "      <th>F6</th>\n",
       "      <th>F2</th>\n",
       "      <th>LOc</th>\n",
       "      <th>ROc</th>\n",
       "    </tr>\n",
       "    <tr>\n",
       "      <th>time</th>\n",
       "      <th></th>\n",
       "      <th></th>\n",
       "      <th></th>\n",
       "      <th></th>\n",
       "      <th></th>\n",
       "      <th></th>\n",
       "      <th></th>\n",
       "      <th></th>\n",
       "      <th></th>\n",
       "      <th></th>\n",
       "      <th></th>\n",
       "      <th></th>\n",
       "      <th></th>\n",
       "      <th></th>\n",
       "      <th></th>\n",
       "      <th></th>\n",
       "      <th></th>\n",
       "      <th></th>\n",
       "      <th></th>\n",
       "      <th></th>\n",
       "      <th></th>\n",
       "    </tr>\n",
       "  </thead>\n",
       "  <tbody>\n",
       "    <tr>\n",
       "      <th>0</th>\n",
       "      <td>11607.189936</td>\n",
       "      <td>14893.280850</td>\n",
       "      <td>15708.377604</td>\n",
       "      <td>1512.585225</td>\n",
       "      <td>6591.296067</td>\n",
       "      <td>-898.787251</td>\n",
       "      <td>18075.431582</td>\n",
       "      <td>16503.607833</td>\n",
       "      <td>13248.552848</td>\n",
       "      <td>14890.099683</td>\n",
       "      <td>...</td>\n",
       "      <td>16981.732797</td>\n",
       "      <td>3983.475638</td>\n",
       "      <td>21690.807722</td>\n",
       "      <td>6378.633979</td>\n",
       "      <td>17877.619873</td>\n",
       "      <td>1655.989342</td>\n",
       "      <td>-1911.685458</td>\n",
       "      <td>16699.364974</td>\n",
       "      <td>2.392143e+10</td>\n",
       "      <td>7.073098e+09</td>\n",
       "    </tr>\n",
       "    <tr>\n",
       "      <th>100</th>\n",
       "      <td>11555.578653</td>\n",
       "      <td>15299.300894</td>\n",
       "      <td>15693.479940</td>\n",
       "      <td>1436.988655</td>\n",
       "      <td>6829.300896</td>\n",
       "      <td>-1011.861941</td>\n",
       "      <td>18168.177774</td>\n",
       "      <td>16772.396012</td>\n",
       "      <td>13415.294053</td>\n",
       "      <td>14701.752851</td>\n",
       "      <td>...</td>\n",
       "      <td>17048.662575</td>\n",
       "      <td>3809.184469</td>\n",
       "      <td>21818.078421</td>\n",
       "      <td>6353.064430</td>\n",
       "      <td>18072.641849</td>\n",
       "      <td>1576.326706</td>\n",
       "      <td>-1874.566798</td>\n",
       "      <td>16210.705241</td>\n",
       "      <td>2.386367e+10</td>\n",
       "      <td>7.010113e+09</td>\n",
       "    </tr>\n",
       "    <tr>\n",
       "      <th>200</th>\n",
       "      <td>11540.766520</td>\n",
       "      <td>15416.880237</td>\n",
       "      <td>15683.965824</td>\n",
       "      <td>1412.987570</td>\n",
       "      <td>6884.302009</td>\n",
       "      <td>-1041.261801</td>\n",
       "      <td>18190.168586</td>\n",
       "      <td>16843.484548</td>\n",
       "      <td>13460.361477</td>\n",
       "      <td>14651.672472</td>\n",
       "      <td>...</td>\n",
       "      <td>17063.569609</td>\n",
       "      <td>3765.031605</td>\n",
       "      <td>21847.284388</td>\n",
       "      <td>6344.277508</td>\n",
       "      <td>18118.784003</td>\n",
       "      <td>1554.908005</td>\n",
       "      <td>-1870.197107</td>\n",
       "      <td>16095.181204</td>\n",
       "      <td>2.380634e+10</td>\n",
       "      <td>6.937458e+09</td>\n",
       "    </tr>\n",
       "    <tr>\n",
       "      <th>300</th>\n",
       "      <td>11512.506610</td>\n",
       "      <td>15604.173968</td>\n",
       "      <td>15673.798529</td>\n",
       "      <td>1376.670943</td>\n",
       "      <td>7001.180145</td>\n",
       "      <td>-1100.937336</td>\n",
       "      <td>18231.458615</td>\n",
       "      <td>16965.471244</td>\n",
       "      <td>13537.960218</td>\n",
       "      <td>14555.517641</td>\n",
       "      <td>...</td>\n",
       "      <td>17094.423257</td>\n",
       "      <td>3671.677613</td>\n",
       "      <td>21905.517271</td>\n",
       "      <td>6329.353178</td>\n",
       "      <td>18212.366861</td>\n",
       "      <td>1512.629428</td>\n",
       "      <td>-1858.585829</td>\n",
       "      <td>15858.023247</td>\n",
       "      <td>2.377906e+10</td>\n",
       "      <td>6.882754e+09</td>\n",
       "    </tr>\n",
       "    <tr>\n",
       "      <th>400</th>\n",
       "      <td>11517.604170</td>\n",
       "      <td>15520.944267</td>\n",
       "      <td>15677.104511</td>\n",
       "      <td>1387.739775</td>\n",
       "      <td>6962.857434</td>\n",
       "      <td>-1087.945724</td>\n",
       "      <td>18217.714150</td>\n",
       "      <td>16920.458397</td>\n",
       "      <td>13501.012309</td>\n",
       "      <td>14584.542714</td>\n",
       "      <td>...</td>\n",
       "      <td>17081.147297</td>\n",
       "      <td>3694.949214</td>\n",
       "      <td>21884.120521</td>\n",
       "      <td>6331.899204</td>\n",
       "      <td>18181.946706</td>\n",
       "      <td>1522.776348</td>\n",
       "      <td>-1860.484833</td>\n",
       "      <td>15916.993788</td>\n",
       "      <td>2.380877e+10</td>\n",
       "      <td>6.898872e+09</td>\n",
       "    </tr>\n",
       "  </tbody>\n",
       "</table>\n",
       "<p>5 rows × 63 columns</p>\n",
       "</div>"
      ],
      "text/plain": [
       "signal           Fp1            Fz            F3           F7          FT9  \\\n",
       "time                                                                         \n",
       "0       11607.189936  14893.280850  15708.377604  1512.585225  6591.296067   \n",
       "100     11555.578653  15299.300894  15693.479940  1436.988655  6829.300896   \n",
       "200     11540.766520  15416.880237  15683.965824  1412.987570  6884.302009   \n",
       "300     11512.506610  15604.173968  15673.798529  1376.670943  7001.180145   \n",
       "400     11517.604170  15520.944267  15677.104511  1387.739775  6962.857434   \n",
       "\n",
       "signal          FC5           FC1            C3            T7           CP5  \\\n",
       "time                                                                          \n",
       "0       -898.787251  18075.431582  16503.607833  13248.552848  14890.099683   \n",
       "100    -1011.861941  18168.177774  16772.396012  13415.294053  14701.752851   \n",
       "200    -1041.261801  18190.168586  16843.484548  13460.361477  14651.672472   \n",
       "300    -1100.937336  18231.458615  16965.471244  13537.960218  14555.517641   \n",
       "400    -1087.945724  18217.714150  16920.458397  13501.012309  14584.542714   \n",
       "\n",
       "signal      ...                CP4          TP8            C6           C2  \\\n",
       "time        ...                                                              \n",
       "0           ...       16981.732797  3983.475638  21690.807722  6378.633979   \n",
       "100         ...       17048.662575  3809.184469  21818.078421  6353.064430   \n",
       "200         ...       17063.569609  3765.031605  21847.284388  6344.277508   \n",
       "300         ...       17094.423257  3671.677613  21905.517271  6329.353178   \n",
       "400         ...       17081.147297  3694.949214  21884.120521  6331.899204   \n",
       "\n",
       "signal           FC4          FT8           F6            F2           LOc  \\\n",
       "time                                                                         \n",
       "0       17877.619873  1655.989342 -1911.685458  16699.364974  2.392143e+10   \n",
       "100     18072.641849  1576.326706 -1874.566798  16210.705241  2.386367e+10   \n",
       "200     18118.784003  1554.908005 -1870.197107  16095.181204  2.380634e+10   \n",
       "300     18212.366861  1512.629428 -1858.585829  15858.023247  2.377906e+10   \n",
       "400     18181.946706  1522.776348 -1860.484833  15916.993788  2.380877e+10   \n",
       "\n",
       "signal           ROc  \n",
       "time                  \n",
       "0       7.073098e+09  \n",
       "100     7.010113e+09  \n",
       "200     6.937458e+09  \n",
       "300     6.882754e+09  \n",
       "400     6.898872e+09  \n",
       "\n",
       "[5 rows x 63 columns]"
      ]
     },
     "execution_count": 45,
     "metadata": {},
     "output_type": "execute_result"
    }
   ],
   "source": [
    "df = raw.to_data_frame(picks=None, index=None, scale_time=1000.0, scalings=dict(eeg=1), copy=True, start=None, stop=None)\n",
    "df.head()"
   ]
  },
  {
   "cell_type": "code",
   "execution_count": 47,
   "metadata": {
    "collapsed": false
   },
   "outputs": [
    {
     "data": {
      "text/html": [
       "<div>\n",
       "<table border=\"1\" class=\"dataframe\">\n",
       "  <thead>\n",
       "    <tr style=\"text-align: right;\">\n",
       "      <th>signal</th>\n",
       "      <th>Fp1</th>\n",
       "      <th>Fz</th>\n",
       "      <th>F3</th>\n",
       "      <th>F7</th>\n",
       "      <th>FT9</th>\n",
       "      <th>FC5</th>\n",
       "      <th>FC1</th>\n",
       "      <th>C3</th>\n",
       "      <th>T7</th>\n",
       "      <th>CP5</th>\n",
       "      <th>...</th>\n",
       "      <th>P2</th>\n",
       "      <th>CPz</th>\n",
       "      <th>CP4</th>\n",
       "      <th>TP8</th>\n",
       "      <th>C6</th>\n",
       "      <th>C2</th>\n",
       "      <th>FC4</th>\n",
       "      <th>FT8</th>\n",
       "      <th>F6</th>\n",
       "      <th>F2</th>\n",
       "    </tr>\n",
       "    <tr>\n",
       "      <th>time</th>\n",
       "      <th></th>\n",
       "      <th></th>\n",
       "      <th></th>\n",
       "      <th></th>\n",
       "      <th></th>\n",
       "      <th></th>\n",
       "      <th></th>\n",
       "      <th></th>\n",
       "      <th></th>\n",
       "      <th></th>\n",
       "      <th></th>\n",
       "      <th></th>\n",
       "      <th></th>\n",
       "      <th></th>\n",
       "      <th></th>\n",
       "      <th></th>\n",
       "      <th></th>\n",
       "      <th></th>\n",
       "      <th></th>\n",
       "      <th></th>\n",
       "      <th></th>\n",
       "    </tr>\n",
       "  </thead>\n",
       "  <tbody>\n",
       "    <tr>\n",
       "      <th>0</th>\n",
       "      <td>11607.189936</td>\n",
       "      <td>14893.280850</td>\n",
       "      <td>15708.377604</td>\n",
       "      <td>1512.585225</td>\n",
       "      <td>6591.296067</td>\n",
       "      <td>-898.787251</td>\n",
       "      <td>18075.431582</td>\n",
       "      <td>16503.607833</td>\n",
       "      <td>13248.552848</td>\n",
       "      <td>14890.099683</td>\n",
       "      <td>...</td>\n",
       "      <td>19619.810818</td>\n",
       "      <td>20210.998224</td>\n",
       "      <td>16981.732797</td>\n",
       "      <td>3983.475638</td>\n",
       "      <td>21690.807722</td>\n",
       "      <td>6378.633979</td>\n",
       "      <td>17877.619873</td>\n",
       "      <td>1655.989342</td>\n",
       "      <td>-1911.685458</td>\n",
       "      <td>16699.364974</td>\n",
       "    </tr>\n",
       "    <tr>\n",
       "      <th>100</th>\n",
       "      <td>11555.578653</td>\n",
       "      <td>15299.300894</td>\n",
       "      <td>15693.479940</td>\n",
       "      <td>1436.988655</td>\n",
       "      <td>6829.300896</td>\n",
       "      <td>-1011.861941</td>\n",
       "      <td>18168.177774</td>\n",
       "      <td>16772.396012</td>\n",
       "      <td>13415.294053</td>\n",
       "      <td>14701.752851</td>\n",
       "      <td>...</td>\n",
       "      <td>19748.022261</td>\n",
       "      <td>20310.568130</td>\n",
       "      <td>17048.662575</td>\n",
       "      <td>3809.184469</td>\n",
       "      <td>21818.078421</td>\n",
       "      <td>6353.064430</td>\n",
       "      <td>18072.641849</td>\n",
       "      <td>1576.326706</td>\n",
       "      <td>-1874.566798</td>\n",
       "      <td>16210.705241</td>\n",
       "    </tr>\n",
       "    <tr>\n",
       "      <th>200</th>\n",
       "      <td>11540.766520</td>\n",
       "      <td>15416.880237</td>\n",
       "      <td>15683.965824</td>\n",
       "      <td>1412.987570</td>\n",
       "      <td>6884.302009</td>\n",
       "      <td>-1041.261801</td>\n",
       "      <td>18190.168586</td>\n",
       "      <td>16843.484548</td>\n",
       "      <td>13460.361477</td>\n",
       "      <td>14651.672472</td>\n",
       "      <td>...</td>\n",
       "      <td>19777.992983</td>\n",
       "      <td>20333.166334</td>\n",
       "      <td>17063.569609</td>\n",
       "      <td>3765.031605</td>\n",
       "      <td>21847.284388</td>\n",
       "      <td>6344.277508</td>\n",
       "      <td>18118.784003</td>\n",
       "      <td>1554.908005</td>\n",
       "      <td>-1870.197107</td>\n",
       "      <td>16095.181204</td>\n",
       "    </tr>\n",
       "    <tr>\n",
       "      <th>300</th>\n",
       "      <td>11512.506610</td>\n",
       "      <td>15604.173968</td>\n",
       "      <td>15673.798529</td>\n",
       "      <td>1376.670943</td>\n",
       "      <td>7001.180145</td>\n",
       "      <td>-1100.937336</td>\n",
       "      <td>18231.458615</td>\n",
       "      <td>16965.471244</td>\n",
       "      <td>13537.960218</td>\n",
       "      <td>14555.517641</td>\n",
       "      <td>...</td>\n",
       "      <td>19839.064039</td>\n",
       "      <td>20381.218309</td>\n",
       "      <td>17094.423257</td>\n",
       "      <td>3671.677613</td>\n",
       "      <td>21905.517271</td>\n",
       "      <td>6329.353178</td>\n",
       "      <td>18212.366861</td>\n",
       "      <td>1512.629428</td>\n",
       "      <td>-1858.585829</td>\n",
       "      <td>15858.023247</td>\n",
       "    </tr>\n",
       "    <tr>\n",
       "      <th>400</th>\n",
       "      <td>11517.604170</td>\n",
       "      <td>15520.944267</td>\n",
       "      <td>15677.104511</td>\n",
       "      <td>1387.739775</td>\n",
       "      <td>6962.857434</td>\n",
       "      <td>-1087.945724</td>\n",
       "      <td>18217.714150</td>\n",
       "      <td>16920.458397</td>\n",
       "      <td>13501.012309</td>\n",
       "      <td>14584.542714</td>\n",
       "      <td>...</td>\n",
       "      <td>19815.927383</td>\n",
       "      <td>20364.087903</td>\n",
       "      <td>17081.147297</td>\n",
       "      <td>3694.949214</td>\n",
       "      <td>21884.120521</td>\n",
       "      <td>6331.899204</td>\n",
       "      <td>18181.946706</td>\n",
       "      <td>1522.776348</td>\n",
       "      <td>-1860.484833</td>\n",
       "      <td>15916.993788</td>\n",
       "    </tr>\n",
       "  </tbody>\n",
       "</table>\n",
       "<p>5 rows × 61 columns</p>\n",
       "</div>"
      ],
      "text/plain": [
       "signal           Fp1            Fz            F3           F7          FT9  \\\n",
       "time                                                                         \n",
       "0       11607.189936  14893.280850  15708.377604  1512.585225  6591.296067   \n",
       "100     11555.578653  15299.300894  15693.479940  1436.988655  6829.300896   \n",
       "200     11540.766520  15416.880237  15683.965824  1412.987570  6884.302009   \n",
       "300     11512.506610  15604.173968  15673.798529  1376.670943  7001.180145   \n",
       "400     11517.604170  15520.944267  15677.104511  1387.739775  6962.857434   \n",
       "\n",
       "signal          FC5           FC1            C3            T7           CP5  \\\n",
       "time                                                                          \n",
       "0       -898.787251  18075.431582  16503.607833  13248.552848  14890.099683   \n",
       "100    -1011.861941  18168.177774  16772.396012  13415.294053  14701.752851   \n",
       "200    -1041.261801  18190.168586  16843.484548  13460.361477  14651.672472   \n",
       "300    -1100.937336  18231.458615  16965.471244  13537.960218  14555.517641   \n",
       "400    -1087.945724  18217.714150  16920.458397  13501.012309  14584.542714   \n",
       "\n",
       "signal      ...                 P2           CPz           CP4          TP8  \\\n",
       "time        ...                                                               \n",
       "0           ...       19619.810818  20210.998224  16981.732797  3983.475638   \n",
       "100         ...       19748.022261  20310.568130  17048.662575  3809.184469   \n",
       "200         ...       19777.992983  20333.166334  17063.569609  3765.031605   \n",
       "300         ...       19839.064039  20381.218309  17094.423257  3671.677613   \n",
       "400         ...       19815.927383  20364.087903  17081.147297  3694.949214   \n",
       "\n",
       "signal            C6           C2           FC4          FT8           F6  \\\n",
       "time                                                                        \n",
       "0       21690.807722  6378.633979  17877.619873  1655.989342 -1911.685458   \n",
       "100     21818.078421  6353.064430  18072.641849  1576.326706 -1874.566798   \n",
       "200     21847.284388  6344.277508  18118.784003  1554.908005 -1870.197107   \n",
       "300     21905.517271  6329.353178  18212.366861  1512.629428 -1858.585829   \n",
       "400     21884.120521  6331.899204  18181.946706  1522.776348 -1860.484833   \n",
       "\n",
       "signal            F2  \n",
       "time                  \n",
       "0       16699.364974  \n",
       "100     16210.705241  \n",
       "200     16095.181204  \n",
       "300     15858.023247  \n",
       "400     15916.993788  \n",
       "\n",
       "[5 rows x 61 columns]"
      ]
     },
     "execution_count": 47,
     "metadata": {},
     "output_type": "execute_result"
    }
   ],
   "source": [
    "#df.drop(['LOc'],inplace=True,axis=1)\n",
    "#df.drop(['ROc'],inplace=True,axis=1)\n",
    "df.head()"
   ]
  },
  {
   "cell_type": "code",
   "execution_count": 43,
   "metadata": {
    "collapsed": false
   },
   "outputs": [
    {
     "data": {
      "text/plain": [
       "[<matplotlib.lines.Line2D at 0x14b90d39438>]"
      ]
     },
     "execution_count": 43,
     "metadata": {},
     "output_type": "execute_result"
    },
    {
     "data": {
      "image/png": "[encoded data removed]",
      "text/plain": [
       "<matplotlib.figure.Figure at 0x14b90d372e8>"
      ]
     },
     "metadata": {},
     "output_type": "display_data"
    }
   ],
   "source": [
    "plt.plot(df1['time'],df1['C4'])\n",
    "plt.plot(df1['time'],df1['Fp1'])"
   ]
  },
  {
   "cell_type": "code",
   "execution_count": 50,
   "metadata": {
    "collapsed": false
   },
   "outputs": [
    {
     "data": {
      "text/html": [
       "<div>\n",
       "<table border=\"1\" class=\"dataframe\">\n",
       "  <thead>\n",
       "    <tr style=\"text-align: right;\">\n",
       "      <th></th>\n",
       "      <th>time</th>\n",
       "      <th>Fp1</th>\n",
       "      <th>Fz</th>\n",
       "      <th>F3</th>\n",
       "      <th>F7</th>\n",
       "      <th>FT9</th>\n",
       "      <th>FC5</th>\n",
       "      <th>FC1</th>\n",
       "      <th>C3</th>\n",
       "      <th>T7</th>\n",
       "      <th>...</th>\n",
       "      <th>P2</th>\n",
       "      <th>CPz</th>\n",
       "      <th>CP4</th>\n",
       "      <th>TP8</th>\n",
       "      <th>C6</th>\n",
       "      <th>C2</th>\n",
       "      <th>FC4</th>\n",
       "      <th>FT8</th>\n",
       "      <th>F6</th>\n",
       "      <th>F2</th>\n",
       "    </tr>\n",
       "  </thead>\n",
       "  <tbody>\n",
       "    <tr>\n",
       "      <th>0</th>\n",
       "      <td>0</td>\n",
       "      <td>11607.189936</td>\n",
       "      <td>14893.280850</td>\n",
       "      <td>15708.377604</td>\n",
       "      <td>1512.585225</td>\n",
       "      <td>6591.296067</td>\n",
       "      <td>-898.787251</td>\n",
       "      <td>18075.431582</td>\n",
       "      <td>16503.607833</td>\n",
       "      <td>13248.552848</td>\n",
       "      <td>...</td>\n",
       "      <td>19619.810818</td>\n",
       "      <td>20210.998224</td>\n",
       "      <td>16981.732797</td>\n",
       "      <td>3983.475638</td>\n",
       "      <td>21690.807722</td>\n",
       "      <td>6378.633979</td>\n",
       "      <td>17877.619873</td>\n",
       "      <td>1655.989342</td>\n",
       "      <td>-1911.685458</td>\n",
       "      <td>16699.364974</td>\n",
       "    </tr>\n",
       "    <tr>\n",
       "      <th>1</th>\n",
       "      <td>100</td>\n",
       "      <td>11555.578653</td>\n",
       "      <td>15299.300894</td>\n",
       "      <td>15693.479940</td>\n",
       "      <td>1436.988655</td>\n",
       "      <td>6829.300896</td>\n",
       "      <td>-1011.861941</td>\n",
       "      <td>18168.177774</td>\n",
       "      <td>16772.396012</td>\n",
       "      <td>13415.294053</td>\n",
       "      <td>...</td>\n",
       "      <td>19748.022261</td>\n",
       "      <td>20310.568130</td>\n",
       "      <td>17048.662575</td>\n",
       "      <td>3809.184469</td>\n",
       "      <td>21818.078421</td>\n",
       "      <td>6353.064430</td>\n",
       "      <td>18072.641849</td>\n",
       "      <td>1576.326706</td>\n",
       "      <td>-1874.566798</td>\n",
       "      <td>16210.705241</td>\n",
       "    </tr>\n",
       "    <tr>\n",
       "      <th>2</th>\n",
       "      <td>200</td>\n",
       "      <td>11540.766520</td>\n",
       "      <td>15416.880237</td>\n",
       "      <td>15683.965824</td>\n",
       "      <td>1412.987570</td>\n",
       "      <td>6884.302009</td>\n",
       "      <td>-1041.261801</td>\n",
       "      <td>18190.168586</td>\n",
       "      <td>16843.484548</td>\n",
       "      <td>13460.361477</td>\n",
       "      <td>...</td>\n",
       "      <td>19777.992983</td>\n",
       "      <td>20333.166334</td>\n",
       "      <td>17063.569609</td>\n",
       "      <td>3765.031605</td>\n",
       "      <td>21847.284388</td>\n",
       "      <td>6344.277508</td>\n",
       "      <td>18118.784003</td>\n",
       "      <td>1554.908005</td>\n",
       "      <td>-1870.197107</td>\n",
       "      <td>16095.181204</td>\n",
       "    </tr>\n",
       "    <tr>\n",
       "      <th>3</th>\n",
       "      <td>300</td>\n",
       "      <td>11512.506610</td>\n",
       "      <td>15604.173968</td>\n",
       "      <td>15673.798529</td>\n",
       "      <td>1376.670943</td>\n",
       "      <td>7001.180145</td>\n",
       "      <td>-1100.937336</td>\n",
       "      <td>18231.458615</td>\n",
       "      <td>16965.471244</td>\n",
       "      <td>13537.960218</td>\n",
       "      <td>...</td>\n",
       "      <td>19839.064039</td>\n",
       "      <td>20381.218309</td>\n",
       "      <td>17094.423257</td>\n",
       "      <td>3671.677613</td>\n",
       "      <td>21905.517271</td>\n",
       "      <td>6329.353178</td>\n",
       "      <td>18212.366861</td>\n",
       "      <td>1512.629428</td>\n",
       "      <td>-1858.585829</td>\n",
       "      <td>15858.023247</td>\n",
       "    </tr>\n",
       "    <tr>\n",
       "      <th>4</th>\n",
       "      <td>400</td>\n",
       "      <td>11517.604170</td>\n",
       "      <td>15520.944267</td>\n",
       "      <td>15677.104511</td>\n",
       "      <td>1387.739775</td>\n",
       "      <td>6962.857434</td>\n",
       "      <td>-1087.945724</td>\n",
       "      <td>18217.714150</td>\n",
       "      <td>16920.458397</td>\n",
       "      <td>13501.012309</td>\n",
       "      <td>...</td>\n",
       "      <td>19815.927383</td>\n",
       "      <td>20364.087903</td>\n",
       "      <td>17081.147297</td>\n",
       "      <td>3694.949214</td>\n",
       "      <td>21884.120521</td>\n",
       "      <td>6331.899204</td>\n",
       "      <td>18181.946706</td>\n",
       "      <td>1522.776348</td>\n",
       "      <td>-1860.484833</td>\n",
       "      <td>15916.993788</td>\n",
       "    </tr>\n",
       "  </tbody>\n",
       "</table>\n",
       "<p>5 rows × 62 columns</p>\n",
       "</div>"
      ],
      "text/plain": [
       "   time           Fp1            Fz            F3           F7          FT9  \\\n",
       "0     0  11607.189936  14893.280850  15708.377604  1512.585225  6591.296067   \n",
       "1   100  11555.578653  15299.300894  15693.479940  1436.988655  6829.300896   \n",
       "2   200  11540.766520  15416.880237  15683.965824  1412.987570  6884.302009   \n",
       "3   300  11512.506610  15604.173968  15673.798529  1376.670943  7001.180145   \n",
       "4   400  11517.604170  15520.944267  15677.104511  1387.739775  6962.857434   \n",
       "\n",
       "           FC5           FC1            C3            T7      ...       \\\n",
       "0  -898.787251  18075.431582  16503.607833  13248.552848      ...        \n",
       "1 -1011.861941  18168.177774  16772.396012  13415.294053      ...        \n",
       "2 -1041.261801  18190.168586  16843.484548  13460.361477      ...        \n",
       "3 -1100.937336  18231.458615  16965.471244  13537.960218      ...        \n",
       "4 -1087.945724  18217.714150  16920.458397  13501.012309      ...        \n",
       "\n",
       "             P2           CPz           CP4          TP8            C6  \\\n",
       "0  19619.810818  20210.998224  16981.732797  3983.475638  21690.807722   \n",
       "1  19748.022261  20310.568130  17048.662575  3809.184469  21818.078421   \n",
       "2  19777.992983  20333.166334  17063.569609  3765.031605  21847.284388   \n",
       "3  19839.064039  20381.218309  17094.423257  3671.677613  21905.517271   \n",
       "4  19815.927383  20364.087903  17081.147297  3694.949214  21884.120521   \n",
       "\n",
       "            C2           FC4          FT8           F6            F2  \n",
       "0  6378.633979  17877.619873  1655.989342 -1911.685458  16699.364974  \n",
       "1  6353.064430  18072.641849  1576.326706 -1874.566798  16210.705241  \n",
       "2  6344.277508  18118.784003  1554.908005 -1870.197107  16095.181204  \n",
       "3  6329.353178  18212.366861  1512.629428 -1858.585829  15858.023247  \n",
       "4  6331.899204  18181.946706  1522.776348 -1860.484833  15916.993788  \n",
       "\n",
       "[5 rows x 62 columns]"
      ]
     },
     "execution_count": 50,
     "metadata": {},
     "output_type": "execute_result"
    }
   ],
   "source": [
    "## To save this as csv run the following\n",
    "df.to_csv(\"suj28_l2nap_day1_100ms.csv\")\n",
    "df2 = pd.read_csv(\"suj28_l2nap_day1_100ms.csv\")\n",
    "df2.head()"
   ]
  },
  {
   "cell_type": "code",
   "execution_count": 54,
   "metadata": {
    "collapsed": false
   },
   "outputs": [
    {
     "data": {
      "text/plain": [
       "[<matplotlib.lines.Line2D at 0x14b9566bef0>]"
      ]
     },
     "execution_count": 54,
     "metadata": {},
     "output_type": "execute_result"
    },
    {
     "data": {
      "image/png": "[encoded data removed]",
      "text/plain": [
       "<matplotlib.figure.Figure at 0x14b93a1e048>"
      ]
     },
     "metadata": {},
     "output_type": "display_data"
    }
   ],
   "source": [
    "plt.plot(df2['time'],df2['C4'])\n",
    "plt.plot(df1['time'],df1['Fp1'])"
   ]
  },
  {
   "cell_type": "code",
   "execution_count": 44,
   "metadata": {
    "collapsed": false
   },
   "outputs": [
    {
     "name": "stdout",
     "output_type": "stream",
     "text": [
      "Opening raw data file C:\\Users\\Sammauel\\Documents\\csc59969\\EEG\\EEG-Visualization\\Inspection\\suj28_l2nap_day1.fif...\n",
      "This filename (C:\\Users\\Sammauel\\Documents\\csc59969\\EEG\\EEG-Visualization\\Inspection\\suj28_l2nap_day1.fif) does not conform to MNE naming conventions. All raw files should end with raw.fif, raw_sss.fif, raw_tsss.fif, raw.fif.gz, raw_sss.fif.gz or raw_tsss.fif.gz\n"
     ]
    },
    {
     "name": "stderr",
     "output_type": "stream",
     "text": [
      "<ipython-input-44-1e425b8fd88d>:1: RuntimeWarning: This filename (C:\\Users\\Sammauel\\Documents\\csc59969\\EEG\\EEG-Visualization\\Inspection\\suj28_l2nap_day1.fif) does not conform to MNE naming conventions. All raw files should end with raw.fif, raw_sss.fif, raw_tsss.fif, raw.fif.gz, raw_sss.fif.gz or raw_tsss.fif.gz\n",
      "  raw = mne.io.read_raw_fif(\"suj28_l2nap_day1.fif\",preload = True)\n"
     ]
    },
    {
     "name": "stdout",
     "output_type": "stream",
     "text": [
      "Isotrak not found\n",
      "    Read a total of 1 projection items:\n",
      "        Average EEG reference (1 x 61)  idle\n",
      "    Range : 0 ... 1807649 =      0.000 ...  1807.649 secs\n",
      "Ready.\n",
      "add_eeg_ref defaults to True in 0.13, will default to False in 0.14, and will be removed in 0.15. We recommend to use add_eeg_ref=False and set_eeg_reference() instead.\n",
      "Reading 0 ... 1807649  =      0.000 ...  1807.649 secs...\n"
     ]
    },
    {
     "name": "stderr",
     "output_type": "stream",
     "text": [
      "<ipython-input-44-1e425b8fd88d>:1: DeprecationWarning: add_eeg_ref defaults to True in 0.13, will default to False in 0.14, and will be removed in 0.15. We recommend to use add_eeg_ref=False and set_eeg_reference() instead.\n",
      "  raw = mne.io.read_raw_fif(\"suj28_l2nap_day1.fif\",preload = True)\n"
     ]
    },
    {
     "data": {
      "text/plain": [
       "<Raw  |  suj28_l2nap_day1.fif, n_channels x n_times : 63 x 18076 (1807.5 sec), ~8.8 MB, data loaded>"
      ]
     },
     "execution_count": 44,
     "metadata": {},
     "output_type": "execute_result"
    }
   ],
   "source": [
    "raw = mne.io.read_raw_fif(\"suj28_l2nap_day1.fif\",preload = True)\n",
    "raw.load_data\n",
    "raw.resample(10)"
   ]
  },
  {
   "cell_type": "code",
   "execution_count": 10,
   "metadata": {
    "collapsed": false
   },
   "outputs": [
    {
     "name": "stdout",
     "output_type": "stream",
     "text": [
      "(63, 180765)\n"
     ]
    }
   ],
   "source": [
    "data,time = raw[:,:]\n",
    "print(data.shape)"
   ]
  },
  {
   "cell_type": "code",
   "execution_count": 108,
   "metadata": {
    "collapsed": false
   },
   "outputs": [],
   "source": [
    "# Wanted to know if numpy was responsive at all.\n",
    "#np.savetxt('test.txt', data)"
   ]
  },
  {
   "cell_type": "code",
   "execution_count": 112,
   "metadata": {
    "collapsed": false
   },
   "outputs": [],
   "source": [
    "#np.save('test.npy', data)"
   ]
  },
  {
   "cell_type": "code",
   "execution_count": 5,
   "metadata": {
    "collapsed": false
   },
   "outputs": [
    {
     "data": {
      "text/plain": [
       "array([[ 11610.66308594,  11609.3828125 ,  11608.01855469, ...,\n",
       "         11579.25585938,  11579.37597656,  11579.50292969],\n",
       "       [ 14855.59960938,  14861.58203125,  14867.65039062, ...,\n",
       "         15304.23144531,  15305.53027344,  15306.84570312],\n",
       "       [ 15713.27636719,  15712.25097656,  15711.18066406, ...,\n",
       "         15786.72558594,  15786.75292969,  15786.77832031],\n",
       "       ..., \n",
       "       [ 16730.83007812,  16723.89648438,  16716.5078125 , ...,\n",
       "         16120.19921875,  16119.87988281,  16119.61328125],\n",
       "       [ 23940.18554688,  23927.19726562,  23912.20703125, ...,\n",
       "         22154.19921875,  22153.07617188,  22154.05273438],\n",
       "       [  7116.6015625 ,   7111.47460938,   7102.09960938, ...,\n",
       "         15061.76757812,  15061.47460938,  15061.76757812]])"
      ]
     },
     "execution_count": 5,
     "metadata": {},
     "output_type": "execute_result"
    }
   ],
   "source": [
    "testing = np.load('test.npy')\n",
    "testing[:,:]"
   ]
  },
  {
   "cell_type": "code",
   "execution_count": 11,
   "metadata": {
    "collapsed": false
   },
   "outputs": [
    {
     "name": "stdout",
     "output_type": "stream",
     "text": [
      "(63, 180765)\n",
      "(180765,)\n",
      "0.0 1807.64\n"
     ]
    }
   ],
   "source": [
    "start, stop = raw.time_as_index([0,1800000]) # 0 to 30 min\n",
    "data,times = raw[:63, start:stop]\n",
    "print(data.shape)\n",
    "print(times.shape)\n",
    "print(times.min(), times.max())"
   ]
  },
  {
   "cell_type": "code",
   "execution_count": 12,
   "metadata": {
    "collapsed": false
   },
   "outputs": [
    {
     "data": {
      "image/png": "[encoded data removed]",
      "text/plain": [
       "<matplotlib.figure.Figure at 0x14b90cbaeb8>"
      ]
     },
     "metadata": {},
     "output_type": "display_data"
    }
   ],
   "source": [
    "picks = mne.pick_types(raw.info, eeg=True)\n",
    "data,times = raw[picks[:61], start:stop]\n",
    "\n",
    "plt.plot(times, data.T)\n",
    "plt.xlabel('times(ms)')\n",
    "plt.ylabel('EEG data')\n",
    "plt.show()"
   ]
  },
  {
   "cell_type": "markdown",
   "metadata": {},
   "source": [
    "#### Convert the infomation into binaray file or json"
   ]
  },
  {
   "cell_type": "code",
   "execution_count": 8,
   "metadata": {
    "collapsed": false
   },
   "outputs": [
    {
     "data": {
      "text/plain": [
       "14867.650390625"
      ]
     },
     "execution_count": 8,
     "metadata": {},
     "output_type": "execute_result"
    }
   ],
   "source": []
  }
 ],
 "metadata": {
  "kernelspec": {
   "display_name": "Python 3",
   "language": "python",
   "name": "python3"
  },
  "language_info": {
   "codemirror_mode": {
    "name": "ipython",
    "version": 3
   },
   "file_extension": ".py",
   "mimetype": "text/x-python",
   "name": "python",
   "nbconvert_exporter": "python",
   "pygments_lexer": "ipython3",
   "version": "3.5.2"
  }
 },
 "nbformat": 4,
 "nbformat_minor": 1
}
