{
 "cells": [
  {
   "cell_type": "code",
   "execution_count": 16,
   "metadata": {
    "collapsed": false
   },
   "outputs": [
    {
     "name": "stdout",
     "output_type": "stream",
     "text": [
      "Opening raw data file /home/corazon/spring_2017/visualization/final_project/eeg-project/suj29_l5nap_day1_raw.fif...\n",
      "Isotrak not found\n",
      "    Read a total of 1 projection items:\n",
      "        Average EEG reference (1 x 61)  idle\n",
      "    Range : 0 ... 1804949 =      0.000 ...  1804.949 secs\n",
      "Ready.\n",
      "######\n",
      "<Raw  |  suj29_l5nap_day1_raw.fif, n_channels x n_times : 63 x 1804950 (1804.9 sec), ~124 kB, data not loaded>\n",
      "######\n",
      "<Info | 18 non-empty fields\n",
      "    bads : 'list | 0 items\n",
      "    buffer_size_sec : 'numpy.float64 | 1.0\n",
      "    ch_names : 'list | Fp1, Fz, F3, F7, FT9, FC5, FC1, C3, T7, ...\n",
      "    chs : 'list | 63 items (EEG: 61, EOG: 2)\n",
      "    comps : 'list | 0 items\n",
      "    custom_ref_applied : 'bool | False\n",
      "    dev_head_t : 'mne.transforms.Transform | 3 items\n",
      "    events : 'list | 0 items\n",
      "    file_id : 'dict | 4 items\n",
      "    highpass : 'float | 0.10000000149011612 Hz\n",
      "    hpi_meas : 'list | 0 items\n",
      "    hpi_results : 'list | 0 items\n",
      "    lowpass : 'float | 50.0 Hz\n",
      "    meas_date : 'numpy.ndarray | 2016-10-02 14:07:03\n",
      "    meas_id : 'dict | 4 items\n",
      "    nchan : 'int | 63\n",
      "    projs : 'list | Average EEG reference: off\n",
      "    sfreq : 'float | 1000.0 Hz\n",
      "    acq_pars : 'NoneType\n",
      "    acq_stim : 'NoneType\n",
      "    ctf_head_t : 'NoneType\n",
      "    description : 'NoneType\n",
      "    dev_ctf_t : 'NoneType\n",
      "    dig : 'NoneType\n",
      "    experimenter : 'NoneType\n",
      "    hpi_subsystem : 'NoneType\n",
      "    kit_system_id : 'NoneType\n",
      "    line_freq : 'NoneType\n",
      "    proj_id : 'NoneType\n",
      "    proj_name : 'NoneType\n",
      "    subject_info : 'NoneType\n",
      "    xplotter_layout : 'NoneType\n",
      ">\n",
      "######\n",
      "Number of channels: 63\n",
      "######\n",
      "['Fp1', 'Fz', 'F3', 'F7', 'FT9', 'FC5', 'FC1', 'C3', 'T7', 'CP5', 'CP1', 'Pz', 'P3', 'P7', 'O1', 'Oz', 'O2', 'P4', 'P8', 'TP10', 'CP6', 'CP2', 'Cz', 'C4', 'T8', 'FT10', 'FC6', 'FC2', 'F4', 'F8', 'Fp2', 'AF7', 'AF3', 'AFz', 'F1', 'F5', 'FT7', 'FC3', 'FCz', 'C1', 'C5', 'TP7', 'CP3', 'P1', 'P5', 'PO7', 'PO3', 'POz', 'PO4', 'PO8', 'P6', 'P2', 'CPz', 'CP4', 'TP8', 'C6', 'C2', 'FC4', 'FT8', 'F6', 'F2', 'LOc', 'ROc']\n"
     ]
    }
   ],
   "source": [
    "import mne\n",
    "\n",
    "raw = mne.io.read_raw_fif('../suj29_l5nap_day1_raw.fif')\n",
    "print(\"######\")\n",
    "print(raw)\n",
    "print(\"######\")\n",
    "print(raw.info)\n",
    "print(\"######\")\n",
    "print(\"Number of channels: \" + str(len(raw.ch_names)))\n",
    "print(\"######\")\n",
    "print(raw.ch_names)"
   ]
  }
 ],
 "metadata": {
  "kernelspec": {
   "display_name": "Python 3",
   "language": "python",
   "name": "python3"
  },
  "language_info": {
   "codemirror_mode": {
    "name": "ipython",
    "version": 3
   },
   "file_extension": ".py",
   "mimetype": "text/x-python",
   "name": "python",
   "nbconvert_exporter": "python",
   "pygments_lexer": "ipython3",
   "version": "3.6.0"
  }
 },
 "nbformat": 4,
 "nbformat_minor": 2
}
